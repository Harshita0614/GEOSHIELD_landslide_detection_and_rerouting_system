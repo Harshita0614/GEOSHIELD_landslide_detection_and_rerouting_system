{
 "cells": [
  {
   "cell_type": "code",
   "execution_count": 4,
   "metadata": {},
   "outputs": [
    {
     "name": "stdout",
     "output_type": "stream",
     "text": [
      "Test dataset saved as real_landslide_data.csv!\n"
     ]
    }
   ],
   "source": [
    "import pandas as pd\n",
    "from sklearn.preprocessing import LabelEncoder\n",
    "\n",
    "# Creating a test dataset with matching features\n",
    "data = {\n",
    "    'precipitation': [120, 5, 200, 15, 180],\n",
    "    'landslide_category': [1, 0, 1, 0, 1],\n",
    "    'landslide_size': [3, 1, 4, 2, 5],\n",
    "    'event_month': [6, 2, 9, 12, 8],\n",
    "    'location_accuracy': [50, 100, 30, 90, 20],\n",
    "    'season_encoded': [1, 0, 2, 3, 2],\n",
    "    'event_weekday': [3, 5, 1, 6, 2],\n",
    "    'event_day': [12, 24, 3, 18, 7],\n",
    "    'latitude': [34.05, 36.78, 25.69, 40.71, 28.53],\n",
    "    'event_id': [1001, 1002, 1003, 1004, 1005],\n",
    "    'event_time': [14, 9, 22, 17, 10],\n",
    "    'gazeteer_closest_point': [1.5, 2.3, 1.1, 2.8, 0.9],\n",
    "    'fatality_count': [0, 2, 1, 0, 3],\n",
    "    'wind_speed': [40, 5, 55, 10, 70],\n",
    "    'landslide_trigger': ['Rainfall', 'Earthquake', 'Rainfall', 'Construction', 'Heavy Rain'],\n",
    "    'admin_division_name': ['Region A', 'Region B', 'Region C', 'Region D', 'Region E']\n",
    "}\n",
    "\n",
    "# Convert to DataFrame\n",
    "df = pd.DataFrame(data)\n",
    "\n",
    "# Encoding categorical features\n",
    "encoder = LabelEncoder()\n",
    "df['landslide_trigger'] = encoder.fit_transform(df['landslide_trigger'])\n",
    "df['admin_division_name'] = encoder.fit_transform(df['admin_division_name'])\n",
    "\n",
    "# Save as CSV file\n",
    "df.to_csv(\"real_landslide_data.csv\", index=False)\n",
    "\n",
    "print(\"Test dataset saved as real_landslide_data.csv!\")\n"
   ]
  },
  {
   "cell_type": "code",
   "execution_count": null,
   "metadata": {},
   "outputs": [],
   "source": []
  }
 ],
 "metadata": {
  "kernelspec": {
   "display_name": "Python 3",
   "language": "python",
   "name": "python3"
  },
  "language_info": {
   "codemirror_mode": {
    "name": "ipython",
    "version": 3
   },
   "file_extension": ".py",
   "mimetype": "text/x-python",
   "name": "python",
   "nbconvert_exporter": "python",
   "pygments_lexer": "ipython3",
   "version": "3.12.6"
  }
 },
 "nbformat": 4,
 "nbformat_minor": 2
}
