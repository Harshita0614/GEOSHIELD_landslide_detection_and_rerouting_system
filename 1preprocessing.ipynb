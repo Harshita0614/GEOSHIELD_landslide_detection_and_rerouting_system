{
 "cells": [
  {
   "cell_type": "markdown",
   "metadata": {},
   "source": [
    "Dataset features got cleaned."
   ]
  },
  {
   "cell_type": "code",
   "execution_count": null,
   "metadata": {},
   "outputs": [
    {
     "ename": "",
     "evalue": "",
     "output_type": "error",
     "traceback": [
      "\u001b[1;31mFailed to start the Kernel. \n",
      "\u001b[1;31mUnable to start Kernel 'Python 3.12.6' due to a timeout waiting for the ports to get used. \n",
      "\u001b[1;31mView Jupyter <a href='command:jupyter.viewOutput'>log</a> for further details."
     ]
    }
   ],
   "source": [
    "# Import necessary libraries\n",
    "import pandas as pd\n",
    "\n",
    "# Load the dataset (Update the file path as needed)\n",
    "file_path = r\"E:\\Capstone_project_25\\dataset_with_features.csv\"\n",
    "df = pd.read_csv(file_path)\n",
    "\n",
    "# Fill text-based columns with \"Unknown\"\n",
    "text_columns = [\"source_link\", \"event_description\", \"location_description\", \n",
    "                \"photo_link\", \"notes\", \"storm_name\", \"admin_division_name\"]\n",
    "df[text_columns] = df[text_columns].fillna(\"Unknown\")\n",
    "\n",
    "# Fill numerical columns based on their types\n",
    "# Fatality and Injury counts are set to zero if missing\n",
    "df[\"fatality_count\"] = df[\"fatality_count\"].fillna(0)\n",
    "df[\"injury_count\"] = df[\"injury_count\"].fillna(0)\n",
    "\n",
    "# Fill critical numerical features with median values\n",
    "num_columns_median = [\"Aspect\", \"Slope\", \"temperature\", \"precipitation\", \n",
    "                      \"wind_speed\", \"distance_to_nearest_landslide\"]\n",
    "for col in num_columns_median:\n",
    "    df[col] = df[col].fillna(df[col].median())\n",
    "\n",
    "# Save the cleaned dataset\n",
    "cleaned_file_path = r\"E:\\Capstone_project_25\\dataset_cleaned.csv\"\n",
    "df.to_csv(cleaned_file_path, index=False)\n",
    "\n",
    "print(\"Dataset cleaning completed. Cleaned dataset saved as 'dataset_cleaned.csv'.\")\n"
   ]
  },
  {
   "cell_type": "markdown",
   "metadata": {},
   "source": [
    "Synthetic 'no landlside data ' generation for dataset."
   ]
  },
  {
   "cell_type": "code",
   "execution_count": 3,
   "metadata": {},
   "outputs": [
    {
     "name": "stdout",
     "output_type": "stream",
     "text": [
      "Synthetic no landslide cases added and dataset saved as 'dataset_with_synthetic_no_landslide.csv'\n"
     ]
    }
   ],
   "source": [
    "import numpy as np\n",
    "import pandas as pd\n",
    "\n",
    "# Load the cleaned dataset\n",
    "df = pd.read_csv(r\"E:\\Capstone_project_25\\dataset_cleaned (1).csv\")\n",
    "\n",
    "# Number of synthetic \"no landslide\" samples to generate (50% of dataset size)\n",
    "num_synthetic = len(df) // 2\n",
    "\n",
    "# Randomly sample existing data as a base for \"no landslide\" cases\n",
    "synthetic_no_landslide = df.sample(n=num_synthetic, random_state=42).copy()\n",
    "\n",
    "# Modify key environmental conditions to simulate \"no landslide\" scenarios\n",
    "if 'precipitation' in synthetic_no_landslide.columns:\n",
    "    synthetic_no_landslide['precipitation'] *= np.random.uniform(0.3, 0.7, num_synthetic)  # Reduce rainfall\n",
    "\n",
    "if 'wind_speed' in synthetic_no_landslide.columns:\n",
    "    synthetic_no_landslide['wind_speed'] *= np.random.uniform(0.5, 0.9, num_synthetic)  # Reduce wind speed\n",
    "\n",
    "if 'slope' in synthetic_no_landslide.columns:\n",
    "    synthetic_no_landslide['slope'] *= np.random.uniform(0.6, 0.9, num_synthetic)  # Lower slope\n",
    "\n",
    "# Set the target variable to 0 (No Landslide)\n",
    "synthetic_no_landslide['landslide_occurred'] = 0\n",
    "\n",
    "# Combine original dataset (landslide = 1) with synthetic data (landslide = 0)\n",
    "df_balanced = pd.concat([df, synthetic_no_landslide], ignore_index=True)\n",
    "\n",
    "# Save the new dataset\n",
    "df_balanced.to_csv(\"dataset_with_synthetic_no_landslide.csv\", index=False)\n",
    "\n",
    "print(\"Synthetic no landslide cases added and dataset saved as 'dataset_with_synthetic_no_landslide.csv'\")\n"
   ]
  },
  {
   "cell_type": "markdown",
   "metadata": {},
   "source": [
    "Balancing with SMOTE"
   ]
  },
  {
   "cell_type": "code",
   "execution_count": 8,
   "metadata": {},
   "outputs": [
    {
     "name": "stderr",
     "output_type": "stream",
     "text": [
      "C:\\Users\\Harshita Mehta\\AppData\\Local\\Temp\\ipykernel_6244\\485739744.py:9: FutureWarning: Setting an item of incompatible dtype is deprecated and will raise an error in a future version of pandas. Value 'Unknown' has dtype incompatible with float64, please explicitly cast to a compatible dtype first.\n",
      "  df_balanced.fillna(\"Unknown\", inplace=True)\n"
     ]
    },
    {
     "name": "stdout",
     "output_type": "stream",
     "text": [
      "✔ SMOTE-balanced dataset saved successfully as 'dataset_balanced_with_SMOTE.csv'.\n"
     ]
    }
   ],
   "source": [
    "import pandas as pd\n",
    "from imblearn.over_sampling import SMOTE\n",
    "from sklearn.preprocessing import LabelEncoder\n",
    "\n",
    "# Load dataset\n",
    "df_balanced = pd.read_csv(r\"E:\\Capstone_project_25\\dataset_with_synthetic_no_landslide (1).csv\")  # Ensure correct file path\n",
    "\n",
    "# Fill missing values with a placeholder string\n",
    "df_balanced.fillna(\"Unknown\", inplace=True)\n",
    "\n",
    "# Identify categorical columns\n",
    "categorical_cols = df_balanced.select_dtypes(include=['object', 'float', 'int']).columns\n",
    "\n",
    "# Convert all categorical columns to string type before encoding\n",
    "df_balanced[categorical_cols] = df_balanced[categorical_cols].astype(str)\n",
    "\n",
    "# Convert categorical variables to numeric using Label Encoding\n",
    "label_encoders = {}\n",
    "for col in categorical_cols:\n",
    "    le = LabelEncoder()\n",
    "    df_balanced[col] = le.fit_transform(df_balanced[col])\n",
    "    label_encoders[col] = le  # Store encoders for later use\n",
    "\n",
    "# Define features (X) and target (y)\n",
    "X = df_balanced.drop(columns=['landslide_occurred'])  # Features\n",
    "y = df_balanced['landslide_occurred']  # Target\n",
    "\n",
    "# Apply SMOTE\n",
    "smote = SMOTE(random_state=42)\n",
    "X_resampled, y_resampled = smote.fit_resample(X, y)\n",
    "\n",
    "# Convert back to DataFrame\n",
    "df_smote = pd.DataFrame(X_resampled, columns=X.columns)\n",
    "df_smote['landslide_occurred'] = y_resampled  # Add target column\n",
    "\n",
    "# Save the cleaned & SMOTE-balanced dataset\n",
    "df_smote.to_csv(r\"E:\\Capstone_project_25\\dataset_balanced_with_SMOTE.csv\", index=False)\n",
    "\n",
    "print(\"✔ SMOTE-balanced dataset saved successfully as 'dataset_balanced_with_SMOTE.csv'.\")\n"
   ]
  },
  {
   "cell_type": "code",
   "execution_count": null,
   "metadata": {},
   "outputs": [],
   "source": []
  }
 ],
 "metadata": {
  "kernelspec": {
   "display_name": "Python 3",
   "language": "python",
   "name": "python3"
  },
  "language_info": {
   "codemirror_mode": {
    "name": "ipython",
    "version": 3
   },
   "file_extension": ".py",
   "mimetype": "text/x-python",
   "name": "python",
   "nbconvert_exporter": "python",
   "pygments_lexer": "ipython3",
   "version": "3.12.6"
  }
 },
 "nbformat": 4,
 "nbformat_minor": 2
}
